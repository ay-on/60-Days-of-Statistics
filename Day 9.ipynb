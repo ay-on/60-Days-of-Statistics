{
 "cells": [
  {
   "cell_type": "markdown",
   "id": "d9d5533f",
   "metadata": {},
   "source": [
    "You have 3 shirts: Navy, White, Red\n",
    "\n",
    "For each shirt, you have matching pants:\n",
    "\n",
    "Navy → Black, Grey\n",
    "\n",
    "White → Tan, Blue\n",
    "\n",
    "Red → Black, White\n",
    "\n",
    "Your choice of pants depends on the shirt you pick."
   ]
  },
  {
   "cell_type": "code",
   "execution_count": 1,
   "id": "d363f51c",
   "metadata": {},
   "outputs": [
    {
     "name": "stdout",
     "output_type": "stream",
     "text": [
      "Shirt selected: White\n",
      "Matching pants selected: Blue\n",
      "Outfit ready for your big meeting! 👔👖\n"
     ]
    }
   ],
   "source": [
    "import random\n",
    "\n",
    "# Step 1: Define shirts and their matching pants (dependent relationship)\n",
    "wardrobe = {\n",
    "    \"Navy\": [\"Black\", \"Grey\"],\n",
    "    \"White\": [\"Tan\", \"Blue\"],\n",
    "    \"Red\": [\"Black\", \"White\"]\n",
    "}\n",
    "\n",
    "# Step 2: Randomly pick a shirt\n",
    "shirt = random.choice(list(wardrobe.keys()))\n",
    "\n",
    "# Step 3: Pick pants that match the chosen shirt\n",
    "pants = random.choice(wardrobe[shirt])\n",
    "\n",
    "# Display the outfit\n",
    "print(f\"Shirt selected: {shirt}\")\n",
    "print(f\"Matching pants selected: {pants}\")\n",
    "print(f\"Outfit ready for your big meeting! 👔👖\")"
   ]
  }
 ],
 "metadata": {
  "kernelspec": {
   "display_name": "Python 3 (ipykernel)",
   "language": "python",
   "name": "python3"
  },
  "language_info": {
   "codemirror_mode": {
    "name": "ipython",
    "version": 3
   },
   "file_extension": ".py",
   "mimetype": "text/x-python",
   "name": "python",
   "nbconvert_exporter": "python",
   "pygments_lexer": "ipython3",
   "version": "3.11.0"
  },
  "varInspector": {
   "cols": {
    "lenName": 16,
    "lenType": 16,
    "lenVar": 40
   },
   "kernels_config": {
    "python": {
     "delete_cmd_postfix": "",
     "delete_cmd_prefix": "del ",
     "library": "var_list.py",
     "varRefreshCmd": "print(var_dic_list())"
    },
    "r": {
     "delete_cmd_postfix": ") ",
     "delete_cmd_prefix": "rm(",
     "library": "var_list.r",
     "varRefreshCmd": "cat(var_dic_list()) "
    }
   },
   "types_to_exclude": [
    "module",
    "function",
    "builtin_function_or_method",
    "instance",
    "_Feature"
   ],
   "window_display": false
  }
 },
 "nbformat": 4,
 "nbformat_minor": 5
}
