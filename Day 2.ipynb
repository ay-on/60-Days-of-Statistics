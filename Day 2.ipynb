{
 "cells": [
  {
   "cell_type": "code",
   "execution_count": 1,
   "id": "6fab11e7",
   "metadata": {},
   "outputs": [
    {
     "name": "stdout",
     "output_type": "stream",
     "text": [
      "Sorted number of books read: [2, 3, 4, 5, 7]\n",
      "The median number of books read is: 4\n"
     ]
    }
   ],
   "source": [
    "# List of books read by each person\n",
    "books_read = [2, 5, 3, 7, 4]\n",
    "\n",
    "# Step 1: Sort the list in ascending order\n",
    "sorted_books = sorted(books_read)\n",
    "\n",
    "# Step 2: Calculate the number of people\n",
    "num_people = len(sorted_books)\n",
    "\n",
    "# Step 3: Find the middle index\n",
    "middle_index = num_people // 2  # Integer division\n",
    "\n",
    "# Step 4: Since we have an odd number of elements, the median is the middle one\n",
    "median_books = sorted_books[middle_index]\n",
    "\n",
    "# Display the sorted list and median\n",
    "print(f\"Sorted number of books read: {sorted_books}\")\n",
    "print(f\"The median number of books read is: {median_books}\")"
   ]
  },
  {
   "cell_type": "markdown",
   "id": "6ce37796",
   "metadata": {},
   "source": [
    "# Bonus — Handles Even and Odd Automatically\n",
    "Here’s a slightly upgraded version that works whether the list has an odd or even number of people:"
   ]
  },
  {
   "cell_type": "code",
   "execution_count": 2,
   "id": "9355c3c7",
   "metadata": {},
   "outputs": [
    {
     "name": "stdout",
     "output_type": "stream",
     "text": [
      "The median number of books read is: 4\n"
     ]
    }
   ],
   "source": [
    "def calculate_median(data):\n",
    "    sorted_data = sorted(data)\n",
    "    n = len(sorted_data)\n",
    "    middle = n // 2\n",
    "    \n",
    "    if n % 2 == 1:  # Odd number of elements\n",
    "        return sorted_data[middle]\n",
    "    else:  # Even number of elements → average of the two middle numbers\n",
    "        return (sorted_data[middle - 1] + sorted_data[middle]) / 2\n",
    "\n",
    "# Example usage\n",
    "books_read = [2, 5, 3, 7, 4]\n",
    "median = calculate_median(books_read)\n",
    "\n",
    "print(f\"The median number of books read is: {median}\")"
   ]
  },
  {
   "cell_type": "code",
   "execution_count": null,
   "id": "9e197685",
   "metadata": {},
   "outputs": [],
   "source": []
  }
 ],
 "metadata": {
  "kernelspec": {
   "display_name": "Python 3 (ipykernel)",
   "language": "python",
   "name": "python3"
  },
  "language_info": {
   "codemirror_mode": {
    "name": "ipython",
    "version": 3
   },
   "file_extension": ".py",
   "mimetype": "text/x-python",
   "name": "python",
   "nbconvert_exporter": "python",
   "pygments_lexer": "ipython3",
   "version": "3.11.0"
  },
  "varInspector": {
   "cols": {
    "lenName": 16,
    "lenType": 16,
    "lenVar": 40
   },
   "kernels_config": {
    "python": {
     "delete_cmd_postfix": "",
     "delete_cmd_prefix": "del ",
     "library": "var_list.py",
     "varRefreshCmd": "print(var_dic_list())"
    },
    "r": {
     "delete_cmd_postfix": ") ",
     "delete_cmd_prefix": "rm(",
     "library": "var_list.r",
     "varRefreshCmd": "cat(var_dic_list()) "
    }
   },
   "types_to_exclude": [
    "module",
    "function",
    "builtin_function_or_method",
    "instance",
    "_Feature"
   ],
   "window_display": false
  }
 },
 "nbformat": 4,
 "nbformat_minor": 5
}
