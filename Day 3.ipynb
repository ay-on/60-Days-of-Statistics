{
 "cells": [
  {
   "cell_type": "code",
   "execution_count": 1,
   "id": "20e2144b",
   "metadata": {},
   "outputs": [
    {
     "name": "stdout",
     "output_type": "stream",
     "text": [
      "The most popular topping (mode) is: Pepperoni (3 votes)\n"
     ]
    }
   ],
   "source": [
    "from collections import Counter\n",
    "\n",
    "# List of pizza toppings chosen by friends\n",
    "toppings = [\"Pepperoni\", \"Cheese\", \"Pepperoni\", \"Veggie\", \"Cheese\", \"Pepperoni\"]\n",
    "\n",
    "# Step 1: Count the frequency of each topping\n",
    "topping_counts = Counter(toppings)\n",
    "\n",
    "# Step 2: Find the topping(s) with the highest count\n",
    "most_common = topping_counts.most_common(1)  # Get the top 1 most common item\n",
    "\n",
    "# Step 3: Display the result\n",
    "if most_common:\n",
    "    topping, count = most_common[0]\n",
    "    print(f\"The most popular topping (mode) is: {topping} ({count} votes)\")\n",
    "else:\n",
    "    print(\"No toppings were provided.\")"
   ]
  },
  {
   "cell_type": "markdown",
   "id": "76308042",
   "metadata": {},
   "source": [
    "✅ Bonus — Handles Ties (Multiple Modes)\n",
    "What if 2 toppings were equally popular? Let’s make a version that detects that too!"
   ]
  }
 ],
 "metadata": {
  "kernelspec": {
   "display_name": "Python 3 (ipykernel)",
   "language": "python",
   "name": "python3"
  },
  "language_info": {
   "codemirror_mode": {
    "name": "ipython",
    "version": 3
   },
   "file_extension": ".py",
   "mimetype": "text/x-python",
   "name": "python",
   "nbconvert_exporter": "python",
   "pygments_lexer": "ipython3",
   "version": "3.11.0"
  },
  "varInspector": {
   "cols": {
    "lenName": 16,
    "lenType": 16,
    "lenVar": 40
   },
   "kernels_config": {
    "python": {
     "delete_cmd_postfix": "",
     "delete_cmd_prefix": "del ",
     "library": "var_list.py",
     "varRefreshCmd": "print(var_dic_list())"
    },
    "r": {
     "delete_cmd_postfix": ") ",
     "delete_cmd_prefix": "rm(",
     "library": "var_list.r",
     "varRefreshCmd": "cat(var_dic_list()) "
    }
   },
   "types_to_exclude": [
    "module",
    "function",
    "builtin_function_or_method",
    "instance",
    "_Feature"
   ],
   "window_display": false
  }
 },
 "nbformat": 4,
 "nbformat_minor": 5
}
