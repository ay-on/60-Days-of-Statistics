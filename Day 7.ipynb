{
 "cells": [
  {
   "cell_type": "code",
   "execution_count": 1,
   "id": "48f30ac8",
   "metadata": {},
   "outputs": [
    {
     "name": "stdout",
     "output_type": "stream",
     "text": [
      "Probability of fast service at Shop A (Busy): 20%\n",
      "Probability of fast service at Shop B (Empty): 90%\n",
      "\n",
      "You should choose Shop B (Empty) to get your coffee quickly! ☕\n"
     ]
    }
   ],
   "source": [
    "# Define the probabilities (estimated chances of fast service)\n",
    "prob_fast_service_shop_A = 0.20  # 20% chance\n",
    "prob_fast_service_shop_B = 0.90  # 90% chance\n",
    "\n",
    "# Step 1: Convert probabilities to percentages\n",
    "percent_A = prob_fast_service_shop_A * 100\n",
    "percent_B = prob_fast_service_shop_B * 100\n",
    "\n",
    "# Step 2: Compare the two shops\n",
    "if prob_fast_service_shop_A > prob_fast_service_shop_B:\n",
    "    best_shop = \"Shop A (Busy)\"\n",
    "else:\n",
    "    best_shop = \"Shop B (Empty)\"\n",
    "\n",
    "# Display the results\n",
    "print(f\"Probability of fast service at Shop A (Busy): {percent_A:.0f}%\")\n",
    "print(f\"Probability of fast service at Shop B (Empty): {percent_B:.0f}%\")\n",
    "print(f\"\\nYou should choose {best_shop} to get your coffee quickly! ☕\")"
   ]
  }
 ],
 "metadata": {
  "kernelspec": {
   "display_name": "Python 3 (ipykernel)",
   "language": "python",
   "name": "python3"
  },
  "language_info": {
   "codemirror_mode": {
    "name": "ipython",
    "version": 3
   },
   "file_extension": ".py",
   "mimetype": "text/x-python",
   "name": "python",
   "nbconvert_exporter": "python",
   "pygments_lexer": "ipython3",
   "version": "3.11.0"
  },
  "varInspector": {
   "cols": {
    "lenName": 16,
    "lenType": 16,
    "lenVar": 40
   },
   "kernels_config": {
    "python": {
     "delete_cmd_postfix": "",
     "delete_cmd_prefix": "del ",
     "library": "var_list.py",
     "varRefreshCmd": "print(var_dic_list())"
    },
    "r": {
     "delete_cmd_postfix": ") ",
     "delete_cmd_prefix": "rm(",
     "library": "var_list.r",
     "varRefreshCmd": "cat(var_dic_list()) "
    }
   },
   "types_to_exclude": [
    "module",
    "function",
    "builtin_function_or_method",
    "instance",
    "_Feature"
   ],
   "window_display": false
  }
 },
 "nbformat": 4,
 "nbformat_minor": 5
}
