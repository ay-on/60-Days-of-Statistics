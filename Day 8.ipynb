{
 "cells": [
  {
   "cell_type": "markdown",
   "id": "8dd78156",
   "metadata": {},
   "source": [
    "Let’s say:\n",
    "\n",
    "The probability you brush your teeth in the morning is 0.95\n",
    "\n",
    "The probability your coffee turns out great is 0.80\n",
    "\n",
    "Let’s compute the probability that BOTH happen"
   ]
  },
  {
   "cell_type": "code",
   "execution_count": 1,
   "id": "5d055efc",
   "metadata": {},
   "outputs": [
    {
     "name": "stdout",
     "output_type": "stream",
     "text": [
      "Probability you brush your teeth: 95%\n",
      "Probability your coffee turns out good: 80%\n",
      "Probability both happen (independent events): 76.00%\n"
     ]
    }
   ],
   "source": [
    "# Probabilities of independent events\n",
    "prob_brush_teeth = 0.95     # P(A)\n",
    "prob_good_coffee = 0.80     # P(B)\n",
    "\n",
    "# Since they're independent, P(A and B) = P(A) * P(B)\n",
    "prob_both = prob_brush_teeth * prob_good_coffee\n",
    "\n",
    "# Display results\n",
    "print(f\"Probability you brush your teeth: {prob_brush_teeth * 100:.0f}%\")\n",
    "print(f\"Probability your coffee turns out good: {prob_good_coffee * 100:.0f}%\")\n",
    "print(f\"Probability both happen (independent events): {prob_both * 100:.2f}%\")"
   ]
  }
 ],
 "metadata": {
  "kernelspec": {
   "display_name": "Python 3 (ipykernel)",
   "language": "python",
   "name": "python3"
  },
  "language_info": {
   "codemirror_mode": {
    "name": "ipython",
    "version": 3
   },
   "file_extension": ".py",
   "mimetype": "text/x-python",
   "name": "python",
   "nbconvert_exporter": "python",
   "pygments_lexer": "ipython3",
   "version": "3.11.0"
  },
  "varInspector": {
   "cols": {
    "lenName": 16,
    "lenType": 16,
    "lenVar": 40
   },
   "kernels_config": {
    "python": {
     "delete_cmd_postfix": "",
     "delete_cmd_prefix": "del ",
     "library": "var_list.py",
     "varRefreshCmd": "print(var_dic_list())"
    },
    "r": {
     "delete_cmd_postfix": ") ",
     "delete_cmd_prefix": "rm(",
     "library": "var_list.r",
     "varRefreshCmd": "cat(var_dic_list()) "
    }
   },
   "types_to_exclude": [
    "module",
    "function",
    "builtin_function_or_method",
    "instance",
    "_Feature"
   ],
   "window_display": false
  }
 },
 "nbformat": 4,
 "nbformat_minor": 5
}
