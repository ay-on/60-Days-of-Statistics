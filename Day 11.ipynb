{
 "cells": [
  {
   "cell_type": "raw",
   "id": "7acdbcf4",
   "metadata": {},
   "source": [
    "Imagine this:\n",
    "\n",
    " You wake up and see cloudy skies. You wonder:\n",
    "“What’s the chance it will rain given that the sky is cloudy?”\n",
    "You’re not just asking about rain in general — you’re asking:\n",
    "“If I already know it's cloudy, what’s the updated chance of rain?”\n",
    "\n",
    "Boom — that’s Conditional Probability.\n",
    " It’s all about updating probabilities when you know something extra."
   ]
  },
  {
   "cell_type": "markdown",
   "id": "c03b003e",
   "metadata": {},
   "source": [
    "## 🧠 What is Conditional Probability?\n",
    "It’s the probability of event A happening given that event B has already occurred.\n",
    "\n",
    " \n",
    "In this case:\n",
    "\n",
    "A = “It rains”\n",
    "\n",
    "B = “It’s cloudy”\n",
    "\n",
    "You're asking:\n",
    "What’s the probability it rains, given that it’s cloudy?\n",
    "👉 \n",
    "𝑃 (Rain ∣ Cloudy)\n",
    "P(Rain∣Cloudy)"
   ]
  }
 ],
 "metadata": {
  "kernelspec": {
   "display_name": "Python 3 (ipykernel)",
   "language": "python",
   "name": "python3"
  },
  "language_info": {
   "codemirror_mode": {
    "name": "ipython",
    "version": 3
   },
   "file_extension": ".py",
   "mimetype": "text/x-python",
   "name": "python",
   "nbconvert_exporter": "python",
   "pygments_lexer": "ipython3",
   "version": "3.11.0"
  },
  "varInspector": {
   "cols": {
    "lenName": 16,
    "lenType": 16,
    "lenVar": 40
   },
   "kernels_config": {
    "python": {
     "delete_cmd_postfix": "",
     "delete_cmd_prefix": "del ",
     "library": "var_list.py",
     "varRefreshCmd": "print(var_dic_list())"
    },
    "r": {
     "delete_cmd_postfix": ") ",
     "delete_cmd_prefix": "rm(",
     "library": "var_list.r",
     "varRefreshCmd": "cat(var_dic_list()) "
    }
   },
   "types_to_exclude": [
    "module",
    "function",
    "builtin_function_or_method",
    "instance",
    "_Feature"
   ],
   "window_display": false
  }
 },
 "nbformat": 4,
 "nbformat_minor": 5
}
