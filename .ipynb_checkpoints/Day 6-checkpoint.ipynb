{
 "cells": [
  {
   "cell_type": "code",
   "execution_count": 1,
   "id": "fe60b9ee",
   "metadata": {},
   "outputs": [
    {
     "name": "stdout",
     "output_type": "stream",
     "text": [
      "Cupcake weights (grams): [50, 52, 48, 49, 100]\n",
      "The average (mean) weight is: 59.80g\n",
      "Squared differences from mean: [96.03999999999995, 60.839999999999954, 139.23999999999992, 116.63999999999994, 1616.0400000000002]\n",
      "The variance is: 405.76g²\n",
      "The standard deviation is: 20.14g\n"
     ]
    }
   ],
   "source": [
    "import math\n",
    "\n",
    "# List of cupcake weights (in grams)\n",
    "weights = [50, 52, 48, 49, 100]\n",
    "\n",
    "# Step 1: Calculate the mean (average) weight\n",
    "mean_weight = sum(weights) / len(weights)\n",
    "\n",
    "# Step 2: Calculate the squared differences from the mean\n",
    "squared_differences = [(x - mean_weight) ** 2 for x in weights]\n",
    "\n",
    "# Step 3: Calculate the variance (average of squared differences)\n",
    "variance = sum(squared_differences) / len(weights)\n",
    "\n",
    "# Step 4: Calculate the standard deviation (square root of variance)\n",
    "std_deviation = math.sqrt(variance)\n",
    "\n",
    "# Display the results\n",
    "print(f\"Cupcake weights (grams): {weights}\")\n",
    "print(f\"The average (mean) weight is: {mean_weight:.2f}g\")\n",
    "print(f\"Squared differences from mean: {squared_differences}\")\n",
    "print(f\"The variance is: {variance:.2f}g²\")\n",
    "print(f\"The standard deviation is: {std_deviation:.2f}g\")"
   ]
  },
  {
   "cell_type": "markdown",
   "id": "f081ab51",
   "metadata": {},
   "source": [
    "## Alternate"
   ]
  },
  {
   "cell_type": "code",
   "execution_count": 2,
   "id": "47e37cc5",
   "metadata": {},
   "outputs": [
    {
     "name": "stdout",
     "output_type": "stream",
     "text": [
      "The standard deviation is: 20.14g\n"
     ]
    }
   ],
   "source": [
    "import statistics\n",
    "\n",
    "weights = [50, 52, 48, 49, 100]\n",
    "\n",
    "std_deviation = statistics.pstdev(weights)  # population standard deviation\n",
    "\n",
    "print(f\"The standard deviation is: {std_deviation:.2f}g\")"
   ]
  }
 ],
 "metadata": {
  "kernelspec": {
   "display_name": "Python 3 (ipykernel)",
   "language": "python",
   "name": "python3"
  },
  "language_info": {
   "codemirror_mode": {
    "name": "ipython",
    "version": 3
   },
   "file_extension": ".py",
   "mimetype": "text/x-python",
   "name": "python",
   "nbconvert_exporter": "python",
   "pygments_lexer": "ipython3",
   "version": "3.11.0"
  },
  "varInspector": {
   "cols": {
    "lenName": 16,
    "lenType": 16,
    "lenVar": 40
   },
   "kernels_config": {
    "python": {
     "delete_cmd_postfix": "",
     "delete_cmd_prefix": "del ",
     "library": "var_list.py",
     "varRefreshCmd": "print(var_dic_list())"
    },
    "r": {
     "delete_cmd_postfix": ") ",
     "delete_cmd_prefix": "rm(",
     "library": "var_list.r",
     "varRefreshCmd": "cat(var_dic_list()) "
    }
   },
   "types_to_exclude": [
    "module",
    "function",
    "builtin_function_or_method",
    "instance",
    "_Feature"
   ],
   "window_display": false
  }
 },
 "nbformat": 4,
 "nbformat_minor": 5
}
