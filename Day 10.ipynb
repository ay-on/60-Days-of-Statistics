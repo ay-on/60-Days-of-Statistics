{
 "cells": [
  {
   "cell_type": "raw",
   "id": "1e086651",
   "metadata": {},
   "source": [
    "It’s lunchtime. You open the menu and face a delicious dilemma: Will you eat pizza or a burger?\n",
    "😅👉\n",
    "You can’t have both (not today, anyway ).\n",
    "You must choose one — it’s either pizza or burger, not both at the same time.\n",
    "That’s Mutually Exclusive Events!\n",
    "Two events that cannot happen together."
   ]
  },
  {
   "cell_type": "markdown",
   "id": "47f720be",
   "metadata": {},
   "source": [
    "## 🧠 What Are Mutually Exclusive Events?\n",
    "Two events are mutually exclusive if they cannot happen at the same time.\n",
    "\n",
    "In our case:\n",
    "\n",
    "Event A: You eat pizza\n",
    "\n",
    "Event B: You eat a burger\n",
    "\n",
    "🍕 and 🍔 cannot both happen at once (at least not today!)\n",
    "So, P(A and B) = 0"
   ]
  },
  {
   "cell_type": "raw",
   "id": "961002ca",
   "metadata": {},
   "source": [
    "Let’s say:\n",
    "\n",
    "You have a 60% chance of choosing pizza\n",
    "\n",
    "You have a 40% chance of choosing a burger\n",
    "\n",
    "Let’s simulate and calculate the probability that either pizza or burger is chosen."
   ]
  },
  {
   "cell_type": "code",
   "execution_count": 1,
   "id": "f69b3b1b",
   "metadata": {},
   "outputs": [
    {
     "name": "stdout",
     "output_type": "stream",
     "text": [
      "Probability of eating pizza: 60%\n",
      "Probability of eating burger: 40%\n",
      "Probability of eating either pizza OR burger: 100%\n",
      "Probability of eating both (mutually exclusive): 0%\n"
     ]
    }
   ],
   "source": [
    "# Probabilities of mutually exclusive events\n",
    "prob_pizza = 0.60  # 60% chance you'll go for pizza\n",
    "prob_burger = 0.40  # 40% chance you'll go for burger\n",
    "\n",
    "# Mutually exclusive events: P(A or B) = P(A) + P(B)\n",
    "prob_either = prob_pizza + prob_burger\n",
    "\n",
    "# Verify mutual exclusivity: P(A and B) = 0\n",
    "prob_both = 0\n",
    "\n",
    "# Print results\n",
    "print(f\"Probability of eating pizza: {prob_pizza * 100:.0f}%\")\n",
    "print(f\"Probability of eating burger: {prob_burger * 100:.0f}%\")\n",
    "print(f\"Probability of eating either pizza OR burger: {prob_either * 100:.0f}%\")\n",
    "print(f\"Probability of eating both (mutually exclusive): {prob_both * 100:.0f}%\")"
   ]
  }
 ],
 "metadata": {
  "kernelspec": {
   "display_name": "Python 3 (ipykernel)",
   "language": "python",
   "name": "python3"
  },
  "language_info": {
   "codemirror_mode": {
    "name": "ipython",
    "version": 3
   },
   "file_extension": ".py",
   "mimetype": "text/x-python",
   "name": "python",
   "nbconvert_exporter": "python",
   "pygments_lexer": "ipython3",
   "version": "3.11.0"
  },
  "varInspector": {
   "cols": {
    "lenName": 16,
    "lenType": 16,
    "lenVar": 40
   },
   "kernels_config": {
    "python": {
     "delete_cmd_postfix": "",
     "delete_cmd_prefix": "del ",
     "library": "var_list.py",
     "varRefreshCmd": "print(var_dic_list())"
    },
    "r": {
     "delete_cmd_postfix": ") ",
     "delete_cmd_prefix": "rm(",
     "library": "var_list.r",
     "varRefreshCmd": "cat(var_dic_list()) "
    }
   },
   "types_to_exclude": [
    "module",
    "function",
    "builtin_function_or_method",
    "instance",
    "_Feature"
   ],
   "window_display": false
  }
 },
 "nbformat": 4,
 "nbformat_minor": 5
}
